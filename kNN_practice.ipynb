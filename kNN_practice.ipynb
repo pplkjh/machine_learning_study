#농구 선수들의 데이터로 kNN (K-fold: K 교차검증) 을 사용하여 포지션을 예측하는 알고리즘 연습. (이진분류)

#데이터 수집
import pandas as pd

df = pd.read_csv("../basketball_stat.csv")
#수집된 데이터 샘플을 확인
df.head()
